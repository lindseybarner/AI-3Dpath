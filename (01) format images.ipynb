{
 "cells": [
  {
   "cell_type": "code",
   "execution_count": 1,
   "metadata": {
    "scrolled": true
   },
   "outputs": [],
   "source": [
    "import numpy as np\n",
    "import cv2\n",
    "%matplotlib notebook\n",
    "from matplotlib import pyplot as plt\n",
    "import copy\n",
    "import h5py\n",
    "import numpy as np  \n",
    "import tifffile\n",
    "from skimage import io\n",
    "import os\n",
    "import sys\n",
    "from tqdm import tqdm\n",
    "import scipy\n",
    "import time\n",
    "import shutil"
   ]
  },
  {
   "cell_type": "code",
   "execution_count": 2,
   "metadata": {},
   "outputs": [
    {
     "data": {
      "text/html": [
       "<style>.container { width:90% !important; }</style>"
      ],
      "text/plain": [
       "<IPython.core.display.HTML object>"
      ]
     },
     "metadata": {},
     "output_type": "display_data"
    }
   ],
   "source": [
    "from IPython.core.display import display, HTML\n",
    "display(HTML(\"<style>.container { width:90% !important; }</style>\"))"
   ]
  },
  {
   "cell_type": "code",
   "execution_count": 3,
   "metadata": {},
   "outputs": [],
   "source": [
    "def image_show(image, mymax, nrows=1, ncols=1, cmap='gray',size = 8):\n",
    "    fig, ax = plt.subplots(nrows=nrows, ncols=ncols, figsize=(size, size*image.shape[0]/image.shape[1]))\n",
    "    try:\n",
    "        mymax\n",
    "        ax.imshow(image, vmax = mymax, cmap='gray')\n",
    "    except NameError:\n",
    "        ax.imshow(image, cmap='gray')\n",
    "    ax.axis('off')\n",
    "    return fig, ax"
   ]
  },
  {
   "cell_type": "markdown",
   "metadata": {},
   "source": [
    "## Format en face OTLS images (\"slides\") for deep learning algorithm (RGB)"
   ]
  },
  {
   "cell_type": "code",
   "execution_count": 7,
   "metadata": {},
   "outputs": [],
   "source": [
    "path = 'images//raw images//normal//'\n",
    "save_path = 'images//normal//'\n",
    "for file in os.listdir(path):\n",
    "    nuc = io.imread(path + file).astype('uint16')\n",
    "    cyto_name = 'cyto_' + str(file[4:])\n",
    "    cyto = io.imread(path + cyto_name).astype('uint16')\n",
    "\n",
    "    ## Initialize image (ch0 in R, ch1 in G, nothing in B)\n",
    "    im = np.zeros((nuc.shape[0],nuc.shape[1],3), dtype = 'uint16')\n",
    "    im[:,:,0] = nuc\n",
    "    im[:,:,1] = cyto\n",
    "    tifffile.imwrite(save_path + str(file[4:]),im,photometric = 'rgb')"
   ]
  },
  {
   "cell_type": "code",
   "execution_count": 5,
   "metadata": {},
   "outputs": [],
   "source": [
    "path = 'images//raw images//metaplasia//'\n",
    "save_path = 'images//metaplasia//'\n",
    "for file in os.listdir(path):\n",
    "    nuc = io.imread(path + file).astype('uint16')\n",
    "    cyto_name = 'cyto_' + str(file[4:])\n",
    "    cyto = io.imread(path + cyto_name).astype('uint16')\n",
    "\n",
    "    ## Initialize image (ch0 in R, ch1 in G, nothing in B)\n",
    "    im = np.zeros((nuc.shape[0],nuc.shape[1],3), dtype = 'uint16')\n",
    "    im[:,:,0] = nuc\n",
    "    im[:,:,1] = cyto\n",
    "    tifffile.imwrite(save_path + str(file[4:]),im,photometric = 'rgb')"
   ]
  },
  {
   "cell_type": "markdown",
   "metadata": {},
   "source": [
    "## Write pyramidal files in 8-bit format"
   ]
  },
  {
   "cell_type": "code",
   "execution_count": 8,
   "metadata": {},
   "outputs": [],
   "source": [
    "#code adapted from https://forum.image.sc/t/standard-workflow-and-format-to-handle-huge-slidescanner-images/28159/20\n",
    "path = 'images//normal//'\n",
    "\n",
    "for file in os.listdir(path):\n",
    "    if file.endswith('.tiff'):\n",
    "        image = tifffile.imread(path + file, key=0).astype('float64')\n",
    "\n",
    "        ## Scale channel 0 to 0-255\n",
    "        image[:,:,0] = image[:,:,0]/np.max(image[:,:,0])\n",
    "        image[:,:,0] = image[:,:,0]*255\n",
    "        ## Scale channel 1 to 0-255\n",
    "        image[:,:,1] = image[:,:,1]/np.max(image[:,:,1])\n",
    "        image[:,:,1] = image[:,:,1]*255\n",
    "        ## Set as uint8\n",
    "        image = image.astype('uint8')\n",
    "        \n",
    "        h, w, s = image.shape\n",
    "        img_resolution = .209 #um/px\n",
    "        px_per_cm = 10000/img_resolution #inverse of image resolution in cm/px\n",
    "        level = 0\n",
    "\n",
    "        with tifffile.TiffWriter(path + file[:-1], bigtiff=True) as tif: #we want the file to safe as .tif, not .tiff\n",
    "            while True:    \n",
    "                options = dict(tile = (int(256/2**level),int(256/2**level)))\n",
    "                tif.write(image, software='Glencoe/Faas pyramid', metadata=None,\n",
    "                    resolution=(px_per_cm/(2**level), px_per_cm/(2**level), 'CENTIMETER'),\n",
    "                    **options)\n",
    "                tif.write(image[::2,::2,:], subfiletype=1, **options)\n",
    "                if max(w, h) < 256 or level >= 4: #Not sure why it only works for levels 1-4. should troubleshoot this later\n",
    "#                     print(level)\n",
    "                    break\n",
    "                level += 1\n",
    "                w //= 2\n",
    "                h //= 2\n",
    "                image = cv2.resize(image, dsize=(w, h), interpolation=cv2.INTER_LINEAR)"
   ]
  },
  {
   "cell_type": "code",
   "execution_count": 9,
   "metadata": {},
   "outputs": [],
   "source": [
    "#code adapted from https://forum.image.sc/t/standard-workflow-and-format-to-handle-huge-slidescanner-images/28159/20\n",
    "path = 'images//metaplasia//'\n",
    "\n",
    "for file in os.listdir(path):\n",
    "    if file.endswith('.tiff'):\n",
    "        image = tifffile.imread(path + file, key=0).astype('float64')\n",
    "#         image = io.imread(path + file).astype('float64')\n",
    "        ## Scale channel 0 to 0-255 (without clipping)\n",
    "        image[:,:,0] = image[:,:,0]/np.max(image[:,:,0])\n",
    "        image[:,:,0] = image[:,:,0]*255\n",
    "        ## Scale channel 1 to 0-255 (without clipping)\n",
    "        image[:,:,1] = image[:,:,1]/np.max(image[:,:,1])\n",
    "        image[:,:,1] = image[:,:,1]*255\n",
    "        ## Set as uint8\n",
    "        image = image.astype('uint8')        \n",
    "        \n",
    "        h, w, s = image.shape\n",
    "        img_resolution = .209 #um/px\n",
    "        px_per_cm = 10000/img_resolution #inverse of image resolution in cm/px\n",
    "        level = 0\n",
    "\n",
    "        with tifffile.TiffWriter(path + file[:-1], bigtiff=True) as tif: #we want the file to safe as .tif, not .tiff\n",
    "            while True:    \n",
    "                options = dict(tile = (int(256/2**level),int(256/2**level)))\n",
    "                tif.write(image, software='Glencoe/Faas pyramid', metadata=None,\n",
    "                    resolution=(px_per_cm/(2**level), px_per_cm/(2**level), 'CENTIMETER'),\n",
    "                    **options)\n",
    "                tif.write(image[::2,::2,:], subfiletype=1, **options)\n",
    "                if max(w, h) < 256 or level >= 4: #Not sure why it only works for levels 1-4. should troubleshoot this later\n",
    "#                     print(level)\n",
    "                    break\n",
    "                level += 1\n",
    "                w //= 2\n",
    "                h //= 2\n",
    "                image = cv2.resize(image, dsize=(w, h), interpolation=cv2.INTER_LINEAR)"
   ]
  }
 ],
 "metadata": {
  "kernelspec": {
   "display_name": "Python 3",
   "language": "python",
   "name": "python3"
  },
  "language_info": {
   "codemirror_mode": {
    "name": "ipython",
    "version": 3
   },
   "file_extension": ".py",
   "mimetype": "text/x-python",
   "name": "python",
   "nbconvert_exporter": "python",
   "pygments_lexer": "ipython3",
   "version": "3.7.9"
  }
 },
 "nbformat": 4,
 "nbformat_minor": 2
}
