{
 "cells": [
  {
   "cell_type": "code",
   "execution_count": 1,
   "metadata": {
    "scrolled": false
   },
   "outputs": [],
   "source": [
    "import random\n",
    "import datetime\n",
    "import numpy as np\n",
    "import h5py\n",
    "from skimage.filters import threshold_otsu\n",
    "from skimage import io\n",
    "from scipy import ndimage as nd\n",
    "from matplotlib import pyplot as plt\n",
    "import tifffile\n",
    "import os\n",
    "import sys\n",
    "import shutil\n",
    "from skimage.draw import polygon as ski_polygon\n",
    "from tqdm import tqdm"
   ]
  },
  {
   "cell_type": "code",
   "execution_count": 2,
   "metadata": {},
   "outputs": [
    {
     "data": {
      "text/html": [
       "<style>.container { width:90% !important; }</style>"
      ],
      "text/plain": [
       "<IPython.core.display.HTML object>"
      ]
     },
     "metadata": {},
     "output_type": "display_data"
    }
   ],
   "source": [
    "from IPython.core.display import display, HTML\n",
    "display(HTML(\"<style>.container { width:90% !important; }</style>\"))"
   ]
  },
  {
   "cell_type": "markdown",
   "metadata": {},
   "source": [
    "## Normalize each patch from 0 - 255 for each channel"
   ]
  },
  {
   "cell_type": "code",
   "execution_count": 7,
   "metadata": {},
   "outputs": [
    {
     "name": "stderr",
     "output_type": "stream",
     "text": [
      "100%|████████████████████████████████████████████████████████████████████████| 176616/176616 [3:11:02<00:00, 15.41it/s]\n"
     ]
    }
   ],
   "source": [
    "path = 'patches_unformatted//0//'\n",
    "new_path = 'patches//0//'\n",
    "for file in tqdm(os.listdir(path)):\n",
    "    im = io.imread(path + file)\n",
    "    ## Normalize patch to 0 - 255 for ch 0 and ch 1 (ch2 empty)\n",
    "    im[:,:,0] = im[:,:,0].astype('float64')*255/im[:,:,0].max().astype('float64')\n",
    "    im[:,:,1] = im[:,:,1].astype('float64')*255/im[:,:,1].max().astype('float64')\n",
    "\n",
    "    tifffile.imwrite(new_path + file, im, photometric = 'rgb')"
   ]
  },
  {
   "cell_type": "code",
   "execution_count": 9,
   "metadata": {},
   "outputs": [
    {
     "name": "stderr",
     "output_type": "stream",
     "text": [
      "100%|████████████████████████████████████████████████████████████████████████████| 18652/18652 [16:01<00:00, 19.40it/s]\n"
     ]
    }
   ],
   "source": [
    "path = 'patches_unformatted//1//'\n",
    "new_path = 'patches//1//'\n",
    "for file in tqdm(os.listdir(path)):\n",
    "    im = io.imread(path + file)\n",
    "    ## Normalize patch to 0 - 255 for ch 0 and ch 1 (ch2 empty)\n",
    "    im[:,:,0] = im[:,:,0].astype('float64')*255/im[:,:,0].max().astype('float64')\n",
    "    im[:,:,1] = im[:,:,1].astype('float64')*255/im[:,:,1].max().astype('float64')\n",
    "\n",
    "    tifffile.imwrite(new_path + file, im, photometric = 'rgb')"
   ]
  }
 ],
 "metadata": {
  "kernelspec": {
   "display_name": "Python 3",
   "language": "python",
   "name": "python3"
  },
  "language_info": {
   "codemirror_mode": {
    "name": "ipython",
    "version": 3
   },
   "file_extension": ".py",
   "mimetype": "text/x-python",
   "name": "python",
   "nbconvert_exporter": "python",
   "pygments_lexer": "ipython3",
   "version": "3.7.9"
  }
 },
 "nbformat": 4,
 "nbformat_minor": 4
}
