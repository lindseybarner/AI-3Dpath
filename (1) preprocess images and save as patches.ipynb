{
 "cells": [
  {
   "cell_type": "code",
   "execution_count": 1,
   "metadata": {},
   "outputs": [],
   "source": [
    "## This notebook loads images saved in \"images\" folder into SlideManager. \n",
    "## The images are split into 512 x 512 patches and saved to a new directory called \"patches\".\n",
    "## Images saved in \"patches//0\" are benign, whereas \"patches//1\" are neoplastic."
   ]
  },
  {
   "cell_type": "code",
   "execution_count": 2,
   "metadata": {
    "scrolled": false
   },
   "outputs": [],
   "source": [
    "import random\n",
    "import datetime\n",
    "import numpy as np\n",
    "import h5py\n",
    "from skimage.filters import threshold_otsu\n",
    "from skimage import io\n",
    "from matplotlib import pyplot as plt\n",
    "import tifffile\n",
    "import os\n",
    "import sys\n",
    "import shutil\n",
    "from skimage.draw import polygon as ski_polygon\n",
    "import openslide\n",
    "from preprocessing.datamodel import SlideManager\n",
    "from preprocessing.processing import split_negative_slide, split_positive_slide, create_tumor_mask, rgb2gray\n",
    "from preprocessing.util import TileMap\n",
    "\n",
    "%matplotlib inline"
   ]
  },
  {
   "cell_type": "code",
   "execution_count": 3,
   "metadata": {},
   "outputs": [
    {
     "data": {
      "text/html": [
       "<style>.container { width:90% !important; }</style>"
      ],
      "text/plain": [
       "<IPython.core.display.HTML object>"
      ]
     },
     "metadata": {},
     "output_type": "display_data"
    }
   ],
   "source": [
    "from IPython.core.display import display, HTML\n",
    "display(HTML(\"<style>.container { width:90% !important; }</style>\"))"
   ]
  },
  {
   "cell_type": "code",
   "execution_count": 4,
   "metadata": {},
   "outputs": [],
   "source": [
    "def create_dir(path): ## Creates directory if path doesn't exist\n",
    "    if os.path.exists(path) == False:\n",
    "        os.mkdir(path)"
   ]
  },
  {
   "cell_type": "code",
   "execution_count": 5,
   "metadata": {},
   "outputs": [
    {
     "name": "stdout",
     "output_type": "stream",
     "text": [
      "Number of annotated slides: 2\n",
      "Number of normal slides: 2\n"
     ]
    }
   ],
   "source": [
    "# Define directory and slide manager\n",
    "DIR = ''\n",
    "mgr = SlideManager(cam16_dir=DIR)\n",
    "\n",
    "# Get annotated slides\n",
    "slides_met = mgr.met_slides\n",
    "N_met = len(slides_met)\n",
    "print('Number of annotated slides:', N_met)\n",
    "\n",
    "# Get normal slides\n",
    "slides_negative = mgr.negative_slides\n",
    "N_negative = len(slides_negative)\n",
    "print('Number of normal slides:', N_negative)"
   ]
  },
  {
   "cell_type": "code",
   "execution_count": 6,
   "metadata": {},
   "outputs": [],
   "source": [
    "level = 0 ## Level of downsampling (0 = no downsampling)\n",
    "tile_size = 512 # size in px of patches\n",
    "poi = 0.20\n",
    "overlap = tile_size // 2 # Overlap between patches"
   ]
  },
  {
   "cell_type": "markdown",
   "metadata": {},
   "source": [
    "## Extract and save negative patches from negative slides"
   ]
  },
  {
   "cell_type": "code",
   "execution_count": 7,
   "metadata": {},
   "outputs": [
    {
     "name": "stdout",
     "output_type": "stream",
     "text": [
      "Number of negative slides = 2\n",
      "\n",
      "121 tiles written for case00_img01\n",
      "\n",
      "108 tiles written for case01_img03\n"
     ]
    }
   ],
   "source": [
    "print('Number of negative slides = ' + str(N_negative))\n",
    "\n",
    "create_dir(DIR + 'patches//')\n",
    "create_dir(DIR + 'patches//0//')\n",
    "\n",
    "for i in range(N_negative): # specify which slides to write from\n",
    "    negative_slide = mgr.negative_slides[i] #Number indicates which negative slide\n",
    "    \n",
    "    # Load the slide into numpy array\n",
    "    arr = np.asarray(negative_slide.get_full_slide(level=4))\n",
    "    \n",
    "    # Convert it to gray scale\n",
    "    arr_gray = rgb2gray(arr)\n",
    "    \n",
    "    # Calculate otsu threshold\n",
    "    threshold = threshold_otsu(arr_gray)\n",
    "\n",
    "    ## Define patch iterator\n",
    "    tile_iter = split_negative_slide(\n",
    "        negative_slide, level=level,\n",
    "        otsu_threshold=threshold,  # otsu threshold calculated earlier\n",
    "        tile_size=tile_size,\n",
    "        overlap=overlap, # overlap between patches\n",
    "        poi_threshold=poi) # only select tiles with at least 5% tissue\n",
    "\n",
    "    # Initialize the map with the slide itself\n",
    "    tm = TileMap(negative_slide)\n",
    "\n",
    "    cur = 0\n",
    "    for tile, bounds in tile_iter:\n",
    "        tifffile.imwrite(DIR + 'patches//0//' + str(negative_slide.name) + '_x' + \\\n",
    "                         str(bounds[0][0]) + ',y' + str(bounds[0][1]) + '_class0.tif', tile, photometric = 'rgb')\n",
    "        cur += 1\n",
    "        tm.add_tile(bounds)                            \n",
    "\n",
    "    print('\\n{} tiles written'.format(cur) + ' for ' + str(negative_slide.name))"
   ]
  },
  {
   "cell_type": "markdown",
   "metadata": {},
   "source": [
    "## Extract and save positive patches from positive slides"
   ]
  },
  {
   "cell_type": "code",
   "execution_count": 8,
   "metadata": {
    "scrolled": false
   },
   "outputs": [
    {
     "name": "stdout",
     "output_type": "stream",
     "text": [
      "Number of annotated slides = 2\n",
      "\n",
      "111 tiles written for case00_img00\n",
      "\n",
      "70 tiles written for case01_img02\n"
     ]
    }
   ],
   "source": [
    "print('Number of annotated slides = ' + str(N_met))\n",
    "create_dir(DIR + 'patches//1//')\n",
    "\n",
    "for i in range(N_met):\n",
    "    positive_slide = mgr.met_slides[i] #Number indicates which positive slide\n",
    "    \n",
    "    tile_iter = split_positive_slide(\n",
    "        positive_slide, level=level,\n",
    "        tile_size=tile_size,\n",
    "        overlap=overlap, # overlap between patches\n",
    "        poi_threshold=poi) # only select tiles with at least X% tumor\n",
    "\n",
    "    # initialize the map with the slide itself\n",
    "    tm = TileMap(positive_slide)\n",
    "    tm.image\n",
    "\n",
    "    #write image patches to TIF files\n",
    "    cur = 0\n",
    "    for tile, bounds in tile_iter:\n",
    "        tifffile.imwrite(DIR + 'patches//1//' + str(positive_slide.name) + '_x' + \\\n",
    "                         str(bounds[0][0]) + ',y' + str(bounds[0][1]) + '_class1.tif', tile, photometric = 'rgb')\n",
    "        cur += 1\n",
    "        tm.add_tile(bounds)                            \n",
    "\n",
    "    print('\\n{} tiles written'.format(cur) + ' for ' + str(positive_slide.name))"
   ]
  },
  {
   "cell_type": "markdown",
   "metadata": {},
   "source": [
    "## Extract and save negative patches from positive slides"
   ]
  },
  {
   "cell_type": "code",
   "execution_count": 9,
   "metadata": {},
   "outputs": [
    {
     "name": "stdout",
     "output_type": "stream",
     "text": [
      "\n",
      "13 tiles written for case00_img00\n",
      "\n",
      "2 tiles written for case01_img02\n"
     ]
    }
   ],
   "source": [
    "for i in range(N_met):\n",
    "    positive_slide = mgr.met_slides[i] #Number indicates which positive slide\n",
    "    size = positive_slide.level_dimensions[level]\n",
    "    met_mask = np.zeros((size[1], size[0]), dtype=np.uint8)\n",
    "    downsample = positive_slide.level_downsamples[level]\n",
    "    start_pos = (0,0)\n",
    "\n",
    "    #delete rr and/or cc if they exist\n",
    "    try:\n",
    "        del rr_met\n",
    "    except NameError:\n",
    "        pass\n",
    "    try:\n",
    "        del cc_met\n",
    "    except NameError:\n",
    "        pass\n",
    "\n",
    "    ## Collect coordinates of all annotated regions in slide and save as array\n",
    "    ii = 0\n",
    "    for i, annotation in enumerate(positive_slide.annotations):\n",
    "        c_values, r_values = list(zip(*annotation.polygon))\n",
    "        r = np.array(r_values, dtype=np.float32)\n",
    "#         r -= start_pos[1]\n",
    "        r /= downsample\n",
    "        r = np.array(r + 0.5, dtype=np.int32)\n",
    "\n",
    "        c = np.array(c_values, dtype=np.float32)\n",
    "#         c -= start_pos[0]\n",
    "        c /= downsample\n",
    "        c = np.array(c + 0.5, dtype=np.int32)\n",
    "\n",
    "        rr_temp, cc_temp = ski_polygon(r, c, shape=met_mask.shape)\n",
    "\n",
    "        try:\n",
    "            rr_met #if rr_met exists, append to existing array\n",
    "            rr_met = np.append(rr_met, rr_temp) #this will perform if rr already exists\n",
    "            cc_met = np.append(cc_met, cc_temp)\n",
    "        except NameError:\n",
    "            rr_met = rr_temp #initializes if it it the first loop\n",
    "            cc_met = cc_temp\n",
    "        ii += 1\n",
    "    met_mask[rr_met,cc_met] = 1 #rr, cc contains pixel coordinates of ALL met regions in slide\n",
    "\n",
    "    # Create and save patches, excluding ones that contain positive met pixels\n",
    "    negative_mask = np.zeros((size[1], size[0]), dtype=np.uint8) #mask of negative tissue regions (NO positive patches)\n",
    "    downsample = positive_slide.level_downsamples[level]\n",
    "    start_pos = (0,0)\n",
    "\n",
    "    ## Use Otsu threshold to get tissue mask\n",
    "    # load the slide into numpy array\n",
    "    arr = np.asarray(positive_slide.get_full_slide(level=0))\n",
    "    # convert it to gray scale\n",
    "    arr_gray = rgb2gray(arr)\n",
    "    # calculate otsu threshold\n",
    "    threshold = threshold_otsu(arr_gray)\n",
    "\n",
    "    # initialize the map with the slide itself\n",
    "    tm = TileMap(positive_slide)\n",
    "\n",
    "    # create a new and unconsumed tile iterator\n",
    "    tile_iter = split_negative_slide(positive_slide, level=level,\n",
    "                                     otsu_threshold=threshold,\n",
    "                                     tile_size=tile_size, \n",
    "                                     overlap=overlap,\n",
    "                                     poi_threshold=poi)\n",
    "    ii = 0\n",
    "    cur = 0\n",
    "    for tile, bounds in tile_iter: #bounds is (X,Y),(width,height), coordinates on full-resolution slide    \n",
    "        #get coordinates of patch on full-resolution slide\n",
    "        X = bounds[0][0] #X coordinate of top left corner on full-resolution slide\n",
    "        Y = bounds[0][1] #Y coordinate of top left corner on full-resolution slide\n",
    "        width = bounds[1][0] #width of patch\n",
    "        height = bounds[1][1] #height of patch\n",
    "\n",
    "        #convert coordinates to downsampled slide, assign 0 or 1 with skimage.polygon\n",
    "        r = np.array((Y, Y, Y+height, Y+height), dtype=np.float32)\n",
    "        r -= start_pos[1]\n",
    "        r /= downsample\n",
    "        r = np.array(r + 0.5, dtype=np.int32)\n",
    "\n",
    "        c = np.array((X, X+width, X+width, X), dtype=np.float32)\n",
    "        c -= start_pos[0]\n",
    "        c /= downsample\n",
    "        c = np.array(c + 0.5, dtype=np.int32)\n",
    "        rr_tissue, cc_tissue = ski_polygon(r, c, shape=negative_mask.shape) ##patch coords of TISSUE\n",
    "\n",
    "        if 1 in met_mask[rr_tissue, cc_tissue]: #if coordinates of current patch correspond to a 1 in BE mask\n",
    "            pass\n",
    "#             print('do not add patch' + str(bounds))\n",
    "        else:\n",
    "            tm.add_tile(bounds)\n",
    "            negative_mask[rr_tissue, cc_tissue] = 1\n",
    "            tifffile.imwrite(DIR + 'patches//0//' + str(positive_slide.name) + '_x' + \\\n",
    "                         str(bounds[0][0]) + ',y' + str(bounds[0][1]) + '_class0.tif', tile, photometric = 'rgb')\n",
    "            cur += 1\n",
    "\n",
    "        ii += 1\n",
    "\n",
    "    print('\\n{} tiles written'.format(cur) + ' for ' + str(positive_slide.name))"
   ]
  },
  {
   "cell_type": "markdown",
   "metadata": {},
   "source": [
    "## Normalize each channel of all patches to 0 - 255"
   ]
  },
  {
   "cell_type": "code",
   "execution_count": 10,
   "metadata": {},
   "outputs": [],
   "source": [
    "path = 'patches//0//'\n",
    "for file in os.listdir(path):\n",
    "    im = io.imread(path + file)\n",
    "    \n",
    "    ## Normalize patch to 0 - 255 for ch 0 and ch 1 (ch2 empty)\n",
    "    im[:,:,0] = im[:,:,0].astype('float64')*255/im[:,:,0].max().astype('float64')\n",
    "    im[:,:,1] = im[:,:,1].astype('float64')*255/im[:,:,1].max().astype('float64')\n",
    "\n",
    "    tifffile.imwrite(path + file, im, photometric = 'rgb')"
   ]
  },
  {
   "cell_type": "code",
   "execution_count": 11,
   "metadata": {},
   "outputs": [],
   "source": [
    "path = 'patches//1//'\n",
    "for file in os.listdir(path):\n",
    "    im = io.imread(path + file)\n",
    "    ## Normalize patch to 0 - 255 for ch 0 and ch 1 (ch2 empty)\n",
    "    im[:,:,0] = im[:,:,0].astype('float64')*255/im[:,:,0].max().astype('float64')\n",
    "    im[:,:,1] = im[:,:,1].astype('float64')*255/im[:,:,1].max().astype('float64')\n",
    "\n",
    "    tifffile.imwrite(path + file, im, photometric = 'rgb')"
   ]
  }
 ],
 "metadata": {
  "kernelspec": {
   "display_name": "Python 3",
   "language": "python",
   "name": "python3"
  },
  "language_info": {
   "codemirror_mode": {
    "name": "ipython",
    "version": 3
   },
   "file_extension": ".py",
   "mimetype": "text/x-python",
   "name": "python",
   "nbconvert_exporter": "python",
   "pygments_lexer": "ipython3",
   "version": "3.6.5"
  }
 },
 "nbformat": 4,
 "nbformat_minor": 4
}
